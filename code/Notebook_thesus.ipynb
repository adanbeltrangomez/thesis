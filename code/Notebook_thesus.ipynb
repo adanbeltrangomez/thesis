{
  "nbformat": 4,
  "nbformat_minor": 0,
  "metadata": {
    "colab": {
      "provenance": [],
      "authorship_tag": "ABX9TyOqWb4ZuU2WOJSCzrdeMrkI",
      "include_colab_link": true
    },
    "kernelspec": {
      "name": "python3",
      "display_name": "Python 3"
    },
    "language_info": {
      "name": "python"
    }
  },
  "cells": [
    {
      "cell_type": "markdown",
      "metadata": {
        "id": "view-in-github",
        "colab_type": "text"
      },
      "source": [
        "<a href=\"https://colab.research.google.com/github/adanbeltrangomez/thesis/blob/main/code/Notebook_thesus.ipynb\" target=\"_parent\"><img src=\"https://colab.research.google.com/assets/colab-badge.svg\" alt=\"Open In Colab\"/></a>"
      ]
    },
    {
      "cell_type": "code",
      "execution_count": 3,
      "metadata": {
        "id": "0egRIqQls4Va",
        "outputId": "4a989155-1e63-41f4-94f5-37392e217f31",
        "colab": {
          "base_uri": "https://localhost:8080/",
          "height": 373
        }
      },
      "outputs": [
        {
          "output_type": "error",
          "ename": "ModuleNotFoundError",
          "evalue": "ignored",
          "traceback": [
            "\u001b[0;31m---------------------------------------------------------------------------\u001b[0m",
            "\u001b[0;31mModuleNotFoundError\u001b[0m                       Traceback (most recent call last)",
            "\u001b[0;32m<ipython-input-3-38b6a243cb0d>\u001b[0m in \u001b[0;36m<module>\u001b[0;34m\u001b[0m\n\u001b[1;32m      1\u001b[0m \u001b[0;32mimport\u001b[0m \u001b[0mcsv\u001b[0m\u001b[0;34m\u001b[0m\u001b[0;34m\u001b[0m\u001b[0m\n\u001b[0;32m----> 2\u001b[0;31m \u001b[0;32mimport\u001b[0m \u001b[0mUtils_Pln\u001b[0m\u001b[0;34m.\u001b[0m\u001b[0mpy\u001b[0m\u001b[0;34m\u001b[0m\u001b[0;34m\u001b[0m\u001b[0m\n\u001b[0m\u001b[1;32m      3\u001b[0m \u001b[0;32mimport\u001b[0m \u001b[0mMain\u001b[0m\u001b[0;34m\u001b[0m\u001b[0;34m\u001b[0m\u001b[0m\n\u001b[1;32m      4\u001b[0m \u001b[0;32mimport\u001b[0m \u001b[0mpandas\u001b[0m \u001b[0;32mas\u001b[0m \u001b[0mpd\u001b[0m\u001b[0;34m\u001b[0m\u001b[0;34m\u001b[0m\u001b[0m\n\u001b[1;32m      5\u001b[0m \u001b[0;34m\u001b[0m\u001b[0m\n",
            "\u001b[0;31mModuleNotFoundError\u001b[0m: No module named 'Utils_Pln'",
            "",
            "\u001b[0;31m---------------------------------------------------------------------------\u001b[0;32m\nNOTE: If your import is failing due to a missing package, you can\nmanually install dependencies using either !pip or !apt.\n\nTo view examples of installing some common dependencies, click the\n\"Open Examples\" button below.\n\u001b[0;31m---------------------------------------------------------------------------\u001b[0m\n"
          ],
          "errorDetails": {
            "actions": [
              {
                "action": "open_url",
                "actionText": "Open Examples",
                "url": "/notebooks/snippets/importing_libraries.ipynb"
              }
            ]
          }
        }
      ],
      "source": [
        "import csv\n",
        "import Utils_Pln.py\n",
        "import Main\n",
        "import pandas as pd\n",
        "\n",
        "class Gold:\n",
        "\n",
        "    def __init__(self):\n",
        "        '''\n",
        "\n",
        "        '''\n",
        "\n",
        "        # self.oUtilsPln = Utils_Pln.UtilPln()\n",
        "\n",
        "        # self._NameFileNorms = self.oUtilsPln.Read_Config('FilePath_Norms')[0]\n",
        "\n",
        "        self.norms = {}\n",
        "\n",
        "    def evaluate(self, community, section, id):\n",
        "        self.norms = self.readGold(id)\n",
        "\n",
        "        for n in self.norms:\n",
        "            n.process()\n",
        "\n",
        "\n",
        "\n",
        "    def printResults(self):\n",
        "        Main.Norm.writeCSV(self, self.norms)\n",
        "        return\n",
        "\n",
        "    def printGold(self, corpus, section):\n",
        "\n",
        "        titles = [\"Corpus\", \"Id\", \"Text\", \"g_s\", \"g_v\", \"g_o\", \"g_structure\", \"g_m\", \"g_p1\", \"g_p2\", \"g_a\", \"g_c\",\n",
        "                  \"comments\", \"url\"]\n",
        "        lines = []\n",
        "        lines.append(titles)\n",
        "\n",
        "        for n in self.norms:\n",
        "            # if n[8]  not in corpus or n[9] not in section:\n",
        "            #    continue\n",
        "\n",
        "            # name    = n[8]\n",
        "            id = n.ID\n",
        "            text = n.TEXT\n",
        "            g_s = n.G_SUBJECT\n",
        "            g_PClause = n.G_P_CLAUSE\n",
        "            g_QClause = n.G_Q_CLAUSE\n",
        "            g_v = n.G_VERBS\n",
        "            g_o = n.G_OBJECT\n",
        "            g_m = n.G_MODALITY\n",
        "            g_p1 = n.G_PERSON1\n",
        "            g_p2 = n.G_PERSON2\n",
        "            g_c = n.G_P_CLAUSE\n",
        "            g_a = n.G_ACTION\n",
        "\n",
        "            lines.append([id, text, g_PClause, g_QClause, g_v, g_o, g_m, g_p1, g_p2, g_a, g_c])\n",
        "\n",
        "        with open('Gold.csv', 'w', newline='', encoding='utf-8') as csvfile:\n",
        "            writer = csv.writer(csvfile, delimiter=';', quoting=csv.QUOTE_MINIMAL)\n",
        "\n",
        "            for line in lines:\n",
        "                writer.writerow(line)\n",
        "\n",
        "    def readGold(self, id_norm):\n",
        "\n",
        "        df = pd.read_excel(\"GoldStandard.xlsx\", sheet_name='Gold')\n",
        "        df = df.fillna(\"\")\n",
        "\n",
        "        self.norms = []  # {}\n",
        "\n",
        "        for index, row in df.iterrows():\n",
        "            oNorm = Main.Norm()\n",
        "\n",
        "            oNorm.ID = row[\"Id\"]\n",
        "            if id_norm != \"\" and oNorm.ID != id_norm:\n",
        "                continue\n",
        "\n",
        "            oNorm.TEXT = row[\"Text\"]\n",
        "            oNorm.G_P_CLAUSE = row[\"P_Clause\"].split(\"::\")\n",
        "            oNorm.G_Q_CLAUSE = row[\"Q_Clause\"].split(\"::\")\n",
        "            oNorm.G_SUBJECT = row[\"Subject\"].split(\"::\")\n",
        "            oNorm.G_OBJECT = row[\"Object\"].split(\"::\")\n",
        "            oNorm.G_VERBS = row[\"Verb\"].split(\"::\")\n",
        "            oNorm.G_MODALITY = row[\"Modality\"].split(\"::\")\n",
        "            oNorm.G_PERSON1 = row[\"Person1\"].split(\"::\")\n",
        "            oNorm.G_PERSON2 = row[\"Person2\"].split(\"::\")\n",
        "            oNorm.G_P_VERB = row[\"P_Verb\"].split(\"::\")\n",
        "            oNorm.G_P_VERB_TENSE = row[\"P_Verb_Tense\"].split(\"::\")\n",
        "            oNorm.G_Q_VERB = row[\"Q_Verb\"].split(\"::\")\n",
        "            oNorm.G_Q_VERB_TENSE = row[\"Q_Verb_Tense\"].split(\"::\")\n",
        "            oNorm.G_STRUCTURE = row[\"Structure\"]\n",
        "            oNorm.G_ACTION = row[\"Action\"].split(\"::\")\n",
        "            oNorm.G_VOICE = row[\"Voice\"].split(\"::\")\n",
        "            oNorm.G_P_VERB_Tense_Q_VERB_TENSE = row[\"P_Verb_Tense+Q_Verb_Tense\"]\n",
        "            oNorm.G_CANONICAL = row[\"Canonical\"]\n",
        "\n",
        "            print(\"Procesando:\\n\", oNorm.ID)\n",
        "\n",
        "            self.norms.append(oNorm)\n",
        "        return self.norms\n",
        "\n",
        "\n",
        "oGold = Gold()\n",
        "\n",
        "# oGold.evaluate(\"GOLD-STANDARD-FACEBOOK\",\"NORM\",\"\")\n",
        "# oGold.print(\"GOLD-STANDARD-FACEBOOK\",\"NORM\")\n",
        "\n",
        "oGold.evaluate(\"GOLD-STANDARD-BYU-BNC\", \"NORM\", \"\")\n",
        "oGold.printResults()"
      ]
    }
  ]
}